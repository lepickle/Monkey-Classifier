{
 "cells": [
  {
   "cell_type": "code",
   "execution_count": 8,
   "metadata": {
    "scrolled": true
   },
   "outputs": [],
   "source": [
    "#data set https://www.kaggle.com/slothkong/10-monkey-species\n",
    "\n",
    "from keras import applications, optimizers, backend as k\n",
    "from keras.preprocessing.image import ImageDataGenerator\n",
    "from keras.models import Sequential, Model\n",
    "from keras.datasets import mnist\n",
    "from keras.layers import Activation, Dropout, Flatten, Dense, MaxPooling2D, Conv2D\n",
    "from keras.utils import np_utils\n",
    "# from keras.callbacks import ModelCheckpoint, LearningRateScheduler, TensorBoard, EarlyStopping\n",
    "\n",
    "import tensorflow as tf\n",
    "# from tensorflow import keras\n",
    "\n",
    "import numpy as np\n",
    "import matplotlib.pyplot as plt\n",
    "import matplotlib.image as mpimg\n",
    "\n",
    "from imageio import imread\n",
    "from skimage.transform import resize\n",
    "\n",
    "\n",
    "import os"
   ]
  },
  {
   "cell_type": "code",
   "execution_count": 9,
   "metadata": {
    "scrolled": false
   },
   "outputs": [
    {
     "name": "stdout",
     "output_type": "stream",
     "text": [
      "Entering\n"
     ]
    },
    {
     "name": "stderr",
     "output_type": "stream",
     "text": [
      "c:\\users\\jet\\appdata\\local\\programs\\python\\python36\\lib\\site-packages\\skimage\\transform\\_warps.py:105: UserWarning: The default mode, 'constant', will be changed to 'reflect' in skimage 0.15.\n",
      "  warn(\"The default mode, 'constant', will be changed to 'reflect' in \"\n",
      "c:\\users\\jet\\appdata\\local\\programs\\python\\python36\\lib\\site-packages\\skimage\\transform\\_warps.py:110: UserWarning: Anti-aliasing will be enabled by default in skimage 0.15 to avoid aliasing artifacts when down-sampling images.\n",
      "  warn(\"Anti-aliasing will be enabled by default in skimage 0.15 to \"\n"
     ]
    },
    {
     "name": "stdout",
     "output_type": "stream",
     "text": [
      "n0 is finished\n",
      "n1 is finished\n",
      "n2 is finished\n",
      "n3 is finished\n",
      "n4 is finished\n",
      "n5 is finished\n",
      "n6 is finished\n",
      "n7 is finished\n",
      "n8 is finished\n",
      "n9 is finished\n",
      "n0 is finished\n",
      "n1 is finished\n",
      "n2 is finished\n",
      "n3 is finished\n",
      "n4 is finished\n",
      "n5 is finished\n",
      "n6 is finished\n",
      "n7 is finished\n",
      "n8 is finished\n",
      "n9 is finished\n"
     ]
    }
   ],
   "source": [
    "img_width, img_height = 150, 150\n",
    "train_data_dir = \"10-monkey-species/training\"\n",
    "validation_data_dir = \"10-monkey-species/validation\"\n",
    "\n",
    "class_names = [\n",
    "    'mantled_howler',\n",
    "    'patas_monkey',\n",
    "    'bald_uakari',\n",
    "    'japanese_macaque',\n",
    "    'pygmy_marmoset',\n",
    "    'white_headed_capuchin',\n",
    "    'silvery_marmoset',\n",
    "    'common_squirrel_monkey',\n",
    "    'black_headed_night_monkey',\n",
    "    'nilgiri_langur'\n",
    "]\n",
    "classes = []\n",
    "train_features = []\n",
    "train_labels = []\n",
    "class_index = 0\n",
    "\n",
    "print('Entering')\n",
    "\n",
    "for folder_name in os.listdir(train_data_dir): #folder name is also class name\n",
    "    folder_image_dir = train_data_dir+'/'+folder_name\n",
    "    for files in os.listdir(folder_image_dir):\n",
    "        image_data_file = train_data_dir+'/'+folder_name+'/'+files\n",
    "#         image = mpimg.imread(image_data_file) #Matplot image read\n",
    "        image = imread(image_data_file) # scipy read\n",
    "        image = np.array(image)\n",
    "        image = image/255\n",
    "#         image = tf.image.resize_images(image, [img_width, img_height])\n",
    "        image = resize(image, [img_width, img_height])\n",
    "#         image = np.ndarray.flatten(image)\n",
    "        train_features.append(image)\n",
    "        train_labels.append(class_index)\n",
    "    class_index+=1\n",
    "    classes.append(folder_name)\n",
    "#         break\n",
    "    print(folder_name, 'is finished')\n",
    "    \n",
    "val_classes = []\n",
    "x_test = []\n",
    "y_test = []\n",
    "val_class_index = 0\n",
    "for folder_name in os.listdir(validation_data_dir): #folder name is also class name\n",
    "    folder_image_dir = validation_data_dir+'/'+folder_name\n",
    "    for files in os.listdir(folder_image_dir):\n",
    "        image_data_file = validation_data_dir+'/'+folder_name+'/'+files\n",
    "#         image = mpimg.imread(image_data_file) #Matplot image read\n",
    "        image = imread(image_data_file) # scipy read\n",
    "        image = np.array(image)\n",
    "        image = image/255\n",
    "#         image = tf.image.resize_images(image, [img_width, img_height])\n",
    "        image = resize(image, [img_width, img_height])\n",
    "#         image = np.ndarray.flatten(image)\n",
    "        x_test.append(image)\n",
    "        y_test.append(val_class_index)\n",
    "    val_class_index+=1\n",
    "    val_classes.append(folder_name)\n",
    "#         break\n",
    "    print(folder_name, 'is finished')"
   ]
  },
  {
   "cell_type": "code",
   "execution_count": 10,
   "metadata": {},
   "outputs": [],
   "source": [
    "# np.random.seed(123)\n",
    "# np.random.shuffle(train_features)\n",
    "# np.random.shuffle(train_labels)"
   ]
  },
  {
   "cell_type": "code",
   "execution_count": 11,
   "metadata": {},
   "outputs": [
    {
     "name": "stdout",
     "output_type": "stream",
     "text": [
      "(1098, 150, 150, 3)\n",
      "(1098,)\n"
     ]
    }
   ],
   "source": [
    "train_features = np.array(train_features) #Need to do this to prevent \"Expected to see 1 arrays()\n",
    "# train_labels = np_utils.to_categorical(train_labels)  #conver to one hot encoded classes\n",
    "\n",
    "print(np.shape(train_features))\n",
    "print(np.shape(train_labels))"
   ]
  },
  {
   "cell_type": "code",
   "execution_count": 12,
   "metadata": {},
   "outputs": [],
   "source": [
    "# os.environ['CUDA_VISIBLE_DEVICES'] = '' #disable gpu usage momentarily\n",
    "\n",
    "# model = applications.ResNet50(weights = \"imagenet\", include_top=False, input_shape=(img_width, img_height, 3))\n",
    "\n",
    "# for layer in model.layers[-1:]:\n",
    "#     layer.trainable = False\n",
    "    \n",
    "# x = model.output\n",
    "# x = Flatten()(x)\n",
    "# x = Dense(512, activation='relu')(x)\n",
    "# x = Dropout(0.5)(x)\n",
    "# predictions = Dense(len(classes), activation='softmax')(x) # should be number of classes\n",
    "# model = Model(input = model.input, output = predictions)\n",
    "\n",
    "os.environ[\"PATH\"] += os.pathsep + 'C:/Program Files (x86)/Graphviz2.38/bin/'\n",
    "\n",
    "model = Sequential([\n",
    "    Conv2D(32, (3, 3), input_shape=(img_width, img_height, 3), activation='relu'),\n",
    "    MaxPooling2D(pool_size=(2, 2)),\n",
    "    Conv2D(32, (3, 3), activation=tf.nn.relu),\n",
    "    MaxPooling2D(pool_size=(2, 2)),\n",
    "    Conv2D(64, (3, 3), activation=tf.nn.relu, padding='same'),\n",
    "    Conv2D(64, (3, 3), activation=tf.nn.relu),\n",
    "    MaxPooling2D(pool_size=(2, 2)),\n",
    "    Dropout(0.25),\n",
    "    \n",
    "#     Flatten(input_shape=(img_width, img_height,3)),\n",
    "    Flatten(),\n",
    "    Dense(512, activation=tf.nn.relu),\n",
    "    Dropout(0.5),\n",
    "    Dense(len(classes), activation=tf.nn.softmax)\n",
    "])\n",
    "model.compile(optimizer=tf.train.AdamOptimizer(),\n",
    "              loss='sparse_categorical_crossentropy',\n",
    "              metrics=['accuracy'])\n",
    "\n",
    "from keras.utils import plot_model\n",
    "plot_model(model, to_file='model.png')"
   ]
  },
  {
   "cell_type": "code",
   "execution_count": 13,
   "metadata": {
    "scrolled": true
   },
   "outputs": [
    {
     "name": "stdout",
     "output_type": "stream",
     "text": [
      "Epoch 1/50\n",
      "1098/1098 [==============================] - 2s 2ms/step - loss: 2.2788 - acc: 0.1275\n",
      "Epoch 2/50\n",
      "1098/1098 [==============================] - 1s 1ms/step - loss: 1.9475 - acc: 0.3106\n",
      "Epoch 3/50\n",
      "1098/1098 [==============================] - 1s 1ms/step - loss: 1.6308 - acc: 0.4217\n",
      "Epoch 4/50\n",
      "1098/1098 [==============================] - 1s 1ms/step - loss: 1.3958 - acc: 0.5146\n",
      "Epoch 5/50\n",
      "1098/1098 [==============================] - 1s 1ms/step - loss: 1.1649 - acc: 0.5893\n",
      "Epoch 6/50\n",
      "1098/1098 [==============================] - 1s 1ms/step - loss: 1.0224 - acc: 0.6421\n",
      "Epoch 7/50\n",
      "1098/1098 [==============================] - 1s 1ms/step - loss: 0.7930 - acc: 0.7304\n",
      "Epoch 8/50\n",
      "1098/1098 [==============================] - 2s 1ms/step - loss: 0.5450 - acc: 0.8115\n",
      "Epoch 9/50\n",
      "1098/1098 [==============================] - 1s 1ms/step - loss: 0.5139 - acc: 0.8197\n",
      "Epoch 10/50\n",
      "1098/1098 [==============================] - 1s 1ms/step - loss: 0.4618 - acc: 0.8461\n",
      "Epoch 11/50\n",
      "1098/1098 [==============================] - 1s 1ms/step - loss: 0.2656 - acc: 0.9180\n",
      "Epoch 12/50\n",
      "1098/1098 [==============================] - 1s 1ms/step - loss: 0.2321 - acc: 0.9317\n",
      "Epoch 13/50\n",
      "1098/1098 [==============================] - 1s 1ms/step - loss: 0.1781 - acc: 0.9399\n",
      "Epoch 14/50\n",
      "1098/1098 [==============================] - 1s 1ms/step - loss: 0.1633 - acc: 0.9472\n",
      "Epoch 15/50\n",
      "1098/1098 [==============================] - 1s 1ms/step - loss: 0.1764 - acc: 0.9463\n",
      "Epoch 16/50\n",
      "1098/1098 [==============================] - 1s 1ms/step - loss: 0.2157 - acc: 0.9353\n",
      "Epoch 17/50\n",
      "1098/1098 [==============================] - 1s 1ms/step - loss: 0.1489 - acc: 0.9581\n",
      "Epoch 18/50\n",
      "1098/1098 [==============================] - 1s 1ms/step - loss: 0.1221 - acc: 0.9645\n",
      "Epoch 19/50\n",
      "1098/1098 [==============================] - 1s 1ms/step - loss: 0.0774 - acc: 0.9745\n",
      "Epoch 20/50\n",
      "1098/1098 [==============================] - 1s 1ms/step - loss: 0.0614 - acc: 0.9809\n",
      "Epoch 21/50\n",
      "1098/1098 [==============================] - 1s 1ms/step - loss: 0.0657 - acc: 0.9836\n",
      "Epoch 22/50\n",
      "1098/1098 [==============================] - 1s 1ms/step - loss: 0.0503 - acc: 0.9854\n",
      "Epoch 23/50\n",
      "1098/1098 [==============================] - 1s 1ms/step - loss: 0.0522 - acc: 0.9818\n",
      "Epoch 24/50\n",
      "1098/1098 [==============================] - 1s 1ms/step - loss: 0.0380 - acc: 0.9882\n",
      "Epoch 25/50\n",
      "1098/1098 [==============================] - 1s 1ms/step - loss: 0.0281 - acc: 0.9891\n",
      "Epoch 26/50\n",
      "1098/1098 [==============================] - 1s 1ms/step - loss: 0.0465 - acc: 0.9836\n",
      "Epoch 27/50\n",
      "1098/1098 [==============================] - 1s 1ms/step - loss: 0.1046 - acc: 0.9736\n",
      "Epoch 28/50\n",
      "1098/1098 [==============================] - 1s 1ms/step - loss: 0.1919 - acc: 0.9426\n",
      "Epoch 29/50\n",
      "1098/1098 [==============================] - 1s 1ms/step - loss: 0.1002 - acc: 0.9699\n",
      "Epoch 30/50\n",
      "1098/1098 [==============================] - 1s 1ms/step - loss: 0.1111 - acc: 0.9636\n",
      "Epoch 31/50\n",
      "1098/1098 [==============================] - 1s 1ms/step - loss: 0.0388 - acc: 0.9872\n",
      "Epoch 32/50\n",
      "1098/1098 [==============================] - 1s 1ms/step - loss: 0.0314 - acc: 0.9854\n",
      "Epoch 33/50\n",
      "1098/1098 [==============================] - 1s 1ms/step - loss: 0.0400 - acc: 0.9882\n",
      "Epoch 34/50\n",
      "1098/1098 [==============================] - 1s 1ms/step - loss: 0.0505 - acc: 0.9863\n",
      "Epoch 35/50\n",
      "1098/1098 [==============================] - 1s 1ms/step - loss: 0.0309 - acc: 0.9927\n",
      "Epoch 36/50\n",
      "1098/1098 [==============================] - 1s 1ms/step - loss: 0.0195 - acc: 0.9945\n",
      "Epoch 37/50\n",
      "1098/1098 [==============================] - 1s 1ms/step - loss: 0.0332 - acc: 0.9909\n",
      "Epoch 38/50\n",
      "1098/1098 [==============================] - 1s 1ms/step - loss: 0.0386 - acc: 0.9872\n",
      "Epoch 39/50\n",
      "1098/1098 [==============================] - 1s 1ms/step - loss: 0.0668 - acc: 0.9872\n",
      "Epoch 40/50\n",
      "1098/1098 [==============================] - 1s 1ms/step - loss: 0.3101 - acc: 0.9217\n",
      "Epoch 41/50\n",
      "1098/1098 [==============================] - 1s 1ms/step - loss: 0.0932 - acc: 0.9745\n",
      "Epoch 42/50\n",
      "1098/1098 [==============================] - 1s 1ms/step - loss: 0.0482 - acc: 0.9845\n",
      "Epoch 43/50\n",
      "1098/1098 [==============================] - 1s 1ms/step - loss: 0.0433 - acc: 0.9863\n",
      "Epoch 44/50\n",
      "1098/1098 [==============================] - 1s 1ms/step - loss: 0.0212 - acc: 0.9918\n",
      "Epoch 45/50\n",
      "1098/1098 [==============================] - 1s 1ms/step - loss: 0.0258 - acc: 0.9918\n",
      "Epoch 46/50\n",
      "1098/1098 [==============================] - 1s 1ms/step - loss: 0.0173 - acc: 0.9973\n",
      "Epoch 47/50\n",
      "1098/1098 [==============================] - 1s 1ms/step - loss: 0.0312 - acc: 0.9891\n",
      "Epoch 48/50\n",
      "1098/1098 [==============================] - 1s 1ms/step - loss: 0.0317 - acc: 0.9927\n",
      "Epoch 49/50\n",
      "1098/1098 [==============================] - 1s 1ms/step - loss: 0.0258 - acc: 0.9918\n",
      "Epoch 50/50\n",
      "1098/1098 [==============================] - 1s 1ms/step - loss: 0.0268 - acc: 0.9872\n"
     ]
    },
    {
     "data": {
      "image/png": "[encoded data removed]",
      "text/plain": [
       "<Figure size 432x288 with 1 Axes>"
      ]
     },
     "metadata": {},
     "output_type": "display_data"
    },
    {
     "data": {
      "image/png": "[encoded data removed]",
      "text/plain": [
       "<Figure size 432x288 with 1 Axes>"
      ]
     },
     "metadata": {},
     "output_type": "display_data"
    }
   ],
   "source": [
    "# model.fit(train_features, train_labels, epochs=200)\n",
    "\n",
    "# history = model.fit(train_features, train_labels, validation_split=0.25, epochs=50, batch_size=16, verbose=1)\n",
    "history = model.fit(train_features, train_labels, epochs=50, verbose=1, shuffle=True)\n",
    "\n",
    "# Plot training & validation accuracy values\n",
    "plt.plot(history.history['acc'])\n",
    "plt.title('Model accuracy')\n",
    "plt.ylabel('Accuracy')\n",
    "plt.xlabel('Epoch')\n",
    "plt.legend(['Train', 'Test'], loc='upper left')\n",
    "plt.show()\n",
    "\n",
    "# Plot training & validation loss values\n",
    "plt.plot(history.history['loss'])\n",
    "plt.title('Model loss')\n",
    "plt.ylabel('Loss')\n",
    "plt.xlabel('Epoch')\n",
    "plt.legend(['Train', 'Test'], loc='upper left')\n",
    "plt.show()"
   ]
  },
  {
   "cell_type": "code",
   "execution_count": 14,
   "metadata": {},
   "outputs": [
    {
     "name": "stdout",
     "output_type": "stream",
     "text": [
      "(272,)\n",
      "272/272 [==============================] - 0s 952us/step\n",
      "Test accuracy: 0.6397058823529411\n"
     ]
    }
   ],
   "source": [
    "x_test = np.array(x_test) #Need to do this to prevent \"Expected to see 1 arrays()\n",
    "# y_test = np_utils.to_categorical(y_test)  #conver to one hot encoded classes\n",
    "\n",
    "print(np.shape(y_test))\n",
    "\n",
    "test_loss, test_acc = model.evaluate(x_test, y_test)\n",
    "\n",
    "print('Test accuracy:', test_acc)"
   ]
  },
  {
   "cell_type": "code",
   "execution_count": null,
   "metadata": {},
   "outputs": [],
   "source": []
  }
 ],
 "metadata": {
  "kernelspec": {
   "display_name": "Python 3",
   "language": "python",
   "name": "python3"
  },
  "language_info": {
   "codemirror_mode": {
    "name": "ipython",
    "version": 3
   },
   "file_extension": ".py",
   "mimetype": "text/x-python",
   "name": "python",
   "nbconvert_exporter": "python",
   "pygments_lexer": "ipython3",
   "version": "3.6.6"
  }
 },
 "nbformat": 4,
 "nbformat_minor": 2
}
